{
 "cells": [
  {
   "cell_type": "markdown",
   "metadata": {
    "id": "X4KAg1qwWLst"
   },
   "source": [
    "Problem set 1: Data importing and cleaning\n",
    "\n",
    "Due: 11:59pm on Friday, September 6 by uploading to Brightspace\n",
    "\n",
    "Your name:\n",
    "\n",
    "1. Data importing: \"data_finance.csv\" contains a dataset with information about sales transactions. Write the appropriate code for each of the tasks below. This section should be completed without generative AI, but with open access to static online resources like course material, stackoverflow, blogs with sample code, etc.\n",
    "\n",
    "#other requirements(exporting the processed documents to a new folder, using code data_finance.to_csv(\"./processed/data_finance.csv\", index=False, header=True))"
   ]
  },
  {
   "cell_type": "code",
   "execution_count": 13,
   "metadata": {
    "id": "VNactcgqW8by"
   },
   "outputs": [
    {
     "name": "stdout",
     "output_type": "stream",
     "text": [
      "#1.display the column names\n"
     ]
    },
    {
     "data": {
      "text/plain": [
       "Index(['transaction_id', 'product_name', 'quantity', 'price', 'inspected'], dtype='object')"
      ]
     },
     "metadata": {},
     "output_type": "display_data"
    },
    {
     "name": "stdout",
     "output_type": "stream",
     "text": [
      "#2.Identify the data types of each column\n"
     ]
    },
    {
     "data": {
      "application/vnd.microsoft.datawrangler.viewer.v0+json": {
       "columns": [
        {
         "name": "index",
         "rawType": "object",
         "type": "string"
        },
        {
         "name": "0",
         "rawType": "object",
         "type": "unknown"
        }
       ],
       "ref": "0523575d-7caf-4114-ad3a-eb0bde35d3bf",
       "rows": [
        [
         "transaction_id",
         "int64"
        ],
        [
         "product_name",
         "object"
        ],
        [
         "quantity",
         "int64"
        ],
        [
         "price",
         "float64"
        ],
        [
         "inspected",
         "int64"
        ]
       ],
       "shape": {
        "columns": 1,
        "rows": 5
       }
      },
      "text/plain": [
       "transaction_id      int64\n",
       "product_name       object\n",
       "quantity            int64\n",
       "price             float64\n",
       "inspected           int64\n",
       "dtype: object"
      ]
     },
     "metadata": {},
     "output_type": "display_data"
    },
    {
     "name": "stdout",
     "output_type": "stream",
     "text": [
      "#3.Display the first 5 rows of the DataFrame\n"
     ]
    },
    {
     "data": {
      "application/vnd.microsoft.datawrangler.viewer.v0+json": {
       "columns": [
        {
         "name": "index",
         "rawType": "int64",
         "type": "integer"
        },
        {
         "name": "transaction_id",
         "rawType": "int64",
         "type": "integer"
        },
        {
         "name": "product_name",
         "rawType": "object",
         "type": "string"
        },
        {
         "name": "quantity",
         "rawType": "int64",
         "type": "integer"
        },
        {
         "name": "price",
         "rawType": "float64",
         "type": "float"
        },
        {
         "name": "inspected",
         "rawType": "int64",
         "type": "integer"
        }
       ],
       "ref": "a2d0eeb9-dca2-4803-920e-52b3dab220ad",
       "rows": [
        [
         "0",
         "1",
         "Apple",
         "7",
         "12.34",
         "1"
        ],
        [
         "1",
         "2",
         "Banana",
         "2",
         "19.05",
         "1"
        ],
        [
         "2",
         "3",
         "Cherry",
         "9",
         "5.81",
         "1"
        ],
        [
         "3",
         "4",
         "Date",
         "4",
         "1.76",
         "1"
        ],
        [
         "4",
         "5",
         "Elderberry",
         "8",
         "10.45",
         "1"
        ]
       ],
       "shape": {
        "columns": 5,
        "rows": 5
       }
      },
      "text/html": [
       "<div>\n",
       "<style scoped>\n",
       "    .dataframe tbody tr th:only-of-type {\n",
       "        vertical-align: middle;\n",
       "    }\n",
       "\n",
       "    .dataframe tbody tr th {\n",
       "        vertical-align: top;\n",
       "    }\n",
       "\n",
       "    .dataframe thead th {\n",
       "        text-align: right;\n",
       "    }\n",
       "</style>\n",
       "<table border=\"1\" class=\"dataframe\">\n",
       "  <thead>\n",
       "    <tr style=\"text-align: right;\">\n",
       "      <th></th>\n",
       "      <th>transaction_id</th>\n",
       "      <th>product_name</th>\n",
       "      <th>quantity</th>\n",
       "      <th>price</th>\n",
       "      <th>inspected</th>\n",
       "    </tr>\n",
       "  </thead>\n",
       "  <tbody>\n",
       "    <tr>\n",
       "      <th>0</th>\n",
       "      <td>1</td>\n",
       "      <td>Apple</td>\n",
       "      <td>7</td>\n",
       "      <td>12.34</td>\n",
       "      <td>1</td>\n",
       "    </tr>\n",
       "    <tr>\n",
       "      <th>1</th>\n",
       "      <td>2</td>\n",
       "      <td>Banana</td>\n",
       "      <td>2</td>\n",
       "      <td>19.05</td>\n",
       "      <td>1</td>\n",
       "    </tr>\n",
       "    <tr>\n",
       "      <th>2</th>\n",
       "      <td>3</td>\n",
       "      <td>Cherry</td>\n",
       "      <td>9</td>\n",
       "      <td>5.81</td>\n",
       "      <td>1</td>\n",
       "    </tr>\n",
       "    <tr>\n",
       "      <th>3</th>\n",
       "      <td>4</td>\n",
       "      <td>Date</td>\n",
       "      <td>4</td>\n",
       "      <td>1.76</td>\n",
       "      <td>1</td>\n",
       "    </tr>\n",
       "    <tr>\n",
       "      <th>4</th>\n",
       "      <td>5</td>\n",
       "      <td>Elderberry</td>\n",
       "      <td>8</td>\n",
       "      <td>10.45</td>\n",
       "      <td>1</td>\n",
       "    </tr>\n",
       "  </tbody>\n",
       "</table>\n",
       "</div>"
      ],
      "text/plain": [
       "   transaction_id product_name  quantity  price  inspected\n",
       "0               1        Apple         7  12.34          1\n",
       "1               2       Banana         2  19.05          1\n",
       "2               3       Cherry         9   5.81          1\n",
       "3               4         Date         4   1.76          1\n",
       "4               5   Elderberry         8  10.45          1"
      ]
     },
     "metadata": {},
     "output_type": "display_data"
    },
    {
     "name": "stdout",
     "output_type": "stream",
     "text": [
      "#4.Display the last 5 rows of the DataFrame\n"
     ]
    },
    {
     "data": {
      "application/vnd.microsoft.datawrangler.viewer.v0+json": {
       "columns": [
        {
         "name": "index",
         "rawType": "int64",
         "type": "integer"
        },
        {
         "name": "transaction_id",
         "rawType": "int64",
         "type": "integer"
        },
        {
         "name": "product_name",
         "rawType": "object",
         "type": "string"
        },
        {
         "name": "quantity",
         "rawType": "int64",
         "type": "integer"
        },
        {
         "name": "price",
         "rawType": "float64",
         "type": "float"
        },
        {
         "name": "inspected",
         "rawType": "int64",
         "type": "integer"
        }
       ],
       "ref": "0d2e5016-c929-4e4d-8b8f-7afdb71b81ab",
       "rows": [
        [
         "20",
         "21",
         "Vanilla bean",
         "9",
         "17.29",
         "1"
        ],
        [
         "21",
         "22",
         "Watermelon",
         "8",
         "13.67",
         "1"
        ],
        [
         "22",
         "23",
         "Xigua",
         "3",
         "21.89",
         "1"
        ],
        [
         "23",
         "24",
         "Yellow passion fruit",
         "2",
         "15.54",
         "1"
        ],
        [
         "24",
         "25",
         "Zucchini",
         "6",
         "24.72",
         "1"
        ]
       ],
       "shape": {
        "columns": 5,
        "rows": 5
       }
      },
      "text/html": [
       "<div>\n",
       "<style scoped>\n",
       "    .dataframe tbody tr th:only-of-type {\n",
       "        vertical-align: middle;\n",
       "    }\n",
       "\n",
       "    .dataframe tbody tr th {\n",
       "        vertical-align: top;\n",
       "    }\n",
       "\n",
       "    .dataframe thead th {\n",
       "        text-align: right;\n",
       "    }\n",
       "</style>\n",
       "<table border=\"1\" class=\"dataframe\">\n",
       "  <thead>\n",
       "    <tr style=\"text-align: right;\">\n",
       "      <th></th>\n",
       "      <th>transaction_id</th>\n",
       "      <th>product_name</th>\n",
       "      <th>quantity</th>\n",
       "      <th>price</th>\n",
       "      <th>inspected</th>\n",
       "    </tr>\n",
       "  </thead>\n",
       "  <tbody>\n",
       "    <tr>\n",
       "      <th>20</th>\n",
       "      <td>21</td>\n",
       "      <td>Vanilla bean</td>\n",
       "      <td>9</td>\n",
       "      <td>17.29</td>\n",
       "      <td>1</td>\n",
       "    </tr>\n",
       "    <tr>\n",
       "      <th>21</th>\n",
       "      <td>22</td>\n",
       "      <td>Watermelon</td>\n",
       "      <td>8</td>\n",
       "      <td>13.67</td>\n",
       "      <td>1</td>\n",
       "    </tr>\n",
       "    <tr>\n",
       "      <th>22</th>\n",
       "      <td>23</td>\n",
       "      <td>Xigua</td>\n",
       "      <td>3</td>\n",
       "      <td>21.89</td>\n",
       "      <td>1</td>\n",
       "    </tr>\n",
       "    <tr>\n",
       "      <th>23</th>\n",
       "      <td>24</td>\n",
       "      <td>Yellow passion fruit</td>\n",
       "      <td>2</td>\n",
       "      <td>15.54</td>\n",
       "      <td>1</td>\n",
       "    </tr>\n",
       "    <tr>\n",
       "      <th>24</th>\n",
       "      <td>25</td>\n",
       "      <td>Zucchini</td>\n",
       "      <td>6</td>\n",
       "      <td>24.72</td>\n",
       "      <td>1</td>\n",
       "    </tr>\n",
       "  </tbody>\n",
       "</table>\n",
       "</div>"
      ],
      "text/plain": [
       "    transaction_id          product_name  quantity  price  inspected\n",
       "20              21          Vanilla bean         9  17.29          1\n",
       "21              22            Watermelon         8  13.67          1\n",
       "22              23                 Xigua         3  21.89          1\n",
       "23              24  Yellow passion fruit         2  15.54          1\n",
       "24              25              Zucchini         6  24.72          1"
      ]
     },
     "metadata": {},
     "output_type": "display_data"
    },
    {
     "name": "stdout",
     "output_type": "stream",
     "text": [
      "#5.Display a random sample of 5 rows\n"
     ]
    },
    {
     "data": {
      "application/vnd.microsoft.datawrangler.viewer.v0+json": {
       "columns": [
        {
         "name": "index",
         "rawType": "int64",
         "type": "integer"
        },
        {
         "name": "transaction_id",
         "rawType": "int64",
         "type": "integer"
        },
        {
         "name": "product_name",
         "rawType": "object",
         "type": "string"
        },
        {
         "name": "quantity",
         "rawType": "int64",
         "type": "integer"
        },
        {
         "name": "price",
         "rawType": "float64",
         "type": "float"
        },
        {
         "name": "inspected",
         "rawType": "int64",
         "type": "integer"
        }
       ],
       "ref": "60ddc306-3785-42b0-a376-5db79d151082",
       "rows": [
        [
         "22",
         "23",
         "Xigua",
         "3",
         "21.89",
         "1"
        ],
        [
         "23",
         "24",
         "Yellow passion fruit",
         "2",
         "15.54",
         "1"
        ],
        [
         "3",
         "4",
         "Date",
         "4",
         "1.76",
         "1"
        ],
        [
         "4",
         "5",
         "Elderberry",
         "8",
         "10.45",
         "1"
        ],
        [
         "2",
         "3",
         "Cherry",
         "9",
         "5.81",
         "1"
        ]
       ],
       "shape": {
        "columns": 5,
        "rows": 5
       }
      },
      "text/html": [
       "<div>\n",
       "<style scoped>\n",
       "    .dataframe tbody tr th:only-of-type {\n",
       "        vertical-align: middle;\n",
       "    }\n",
       "\n",
       "    .dataframe tbody tr th {\n",
       "        vertical-align: top;\n",
       "    }\n",
       "\n",
       "    .dataframe thead th {\n",
       "        text-align: right;\n",
       "    }\n",
       "</style>\n",
       "<table border=\"1\" class=\"dataframe\">\n",
       "  <thead>\n",
       "    <tr style=\"text-align: right;\">\n",
       "      <th></th>\n",
       "      <th>transaction_id</th>\n",
       "      <th>product_name</th>\n",
       "      <th>quantity</th>\n",
       "      <th>price</th>\n",
       "      <th>inspected</th>\n",
       "    </tr>\n",
       "  </thead>\n",
       "  <tbody>\n",
       "    <tr>\n",
       "      <th>22</th>\n",
       "      <td>23</td>\n",
       "      <td>Xigua</td>\n",
       "      <td>3</td>\n",
       "      <td>21.89</td>\n",
       "      <td>1</td>\n",
       "    </tr>\n",
       "    <tr>\n",
       "      <th>23</th>\n",
       "      <td>24</td>\n",
       "      <td>Yellow passion fruit</td>\n",
       "      <td>2</td>\n",
       "      <td>15.54</td>\n",
       "      <td>1</td>\n",
       "    </tr>\n",
       "    <tr>\n",
       "      <th>3</th>\n",
       "      <td>4</td>\n",
       "      <td>Date</td>\n",
       "      <td>4</td>\n",
       "      <td>1.76</td>\n",
       "      <td>1</td>\n",
       "    </tr>\n",
       "    <tr>\n",
       "      <th>4</th>\n",
       "      <td>5</td>\n",
       "      <td>Elderberry</td>\n",
       "      <td>8</td>\n",
       "      <td>10.45</td>\n",
       "      <td>1</td>\n",
       "    </tr>\n",
       "    <tr>\n",
       "      <th>2</th>\n",
       "      <td>3</td>\n",
       "      <td>Cherry</td>\n",
       "      <td>9</td>\n",
       "      <td>5.81</td>\n",
       "      <td>1</td>\n",
       "    </tr>\n",
       "  </tbody>\n",
       "</table>\n",
       "</div>"
      ],
      "text/plain": [
       "    transaction_id          product_name  quantity  price  inspected\n",
       "22              23                 Xigua         3  21.89          1\n",
       "23              24  Yellow passion fruit         2  15.54          1\n",
       "3                4                  Date         4   1.76          1\n",
       "4                5            Elderberry         8  10.45          1\n",
       "2                3                Cherry         9   5.81          1"
      ]
     },
     "metadata": {},
     "output_type": "display_data"
    },
    {
     "name": "stdout",
     "output_type": "stream",
     "text": [
      "#6.Calculate the total number of rows and columns in the DataFrame\n"
     ]
    },
    {
     "data": {
      "text/plain": [
       "(25, 5)"
      ]
     },
     "metadata": {},
     "output_type": "display_data"
    },
    {
     "name": "stdout",
     "output_type": "stream",
     "text": [
      "#7.Display summary statistics for the quantity and price，inspected columns\n"
     ]
    },
    {
     "data": {
      "application/vnd.microsoft.datawrangler.viewer.v0+json": {
       "columns": [
        {
         "name": "index",
         "rawType": "object",
         "type": "string"
        },
        {
         "name": "quantity",
         "rawType": "float64",
         "type": "float"
        },
        {
         "name": "price",
         "rawType": "float64",
         "type": "float"
        },
        {
         "name": "inspected",
         "rawType": "float64",
         "type": "float"
        }
       ],
       "ref": "6e9f76d1-2b16-4a3f-8668-75e9f15f91c4",
       "rows": [
        [
         "count",
         "25.0",
         "25.0",
         "25.0"
        ],
        [
         "mean",
         "5.52",
         "12.514800000000001",
         "1.0"
        ],
        [
         "std",
         "2.902872140943632",
         "7.346782810636684",
         "0.0"
        ],
        [
         "min",
         "1.0",
         "0.99",
         "1.0"
        ],
        [
         "25%",
         "3.0",
         "6.87",
         "1.0"
        ],
        [
         "50%",
         "6.0",
         "12.34",
         "1.0"
        ],
        [
         "75%",
         "8.0",
         "18.22",
         "1.0"
        ],
        [
         "max",
         "10.0",
         "24.72",
         "1.0"
        ]
       ],
       "shape": {
        "columns": 3,
        "rows": 8
       }
      },
      "text/html": [
       "<div>\n",
       "<style scoped>\n",
       "    .dataframe tbody tr th:only-of-type {\n",
       "        vertical-align: middle;\n",
       "    }\n",
       "\n",
       "    .dataframe tbody tr th {\n",
       "        vertical-align: top;\n",
       "    }\n",
       "\n",
       "    .dataframe thead th {\n",
       "        text-align: right;\n",
       "    }\n",
       "</style>\n",
       "<table border=\"1\" class=\"dataframe\">\n",
       "  <thead>\n",
       "    <tr style=\"text-align: right;\">\n",
       "      <th></th>\n",
       "      <th>quantity</th>\n",
       "      <th>price</th>\n",
       "      <th>inspected</th>\n",
       "    </tr>\n",
       "  </thead>\n",
       "  <tbody>\n",
       "    <tr>\n",
       "      <th>count</th>\n",
       "      <td>25.000000</td>\n",
       "      <td>25.000000</td>\n",
       "      <td>25.0</td>\n",
       "    </tr>\n",
       "    <tr>\n",
       "      <th>mean</th>\n",
       "      <td>5.520000</td>\n",
       "      <td>12.514800</td>\n",
       "      <td>1.0</td>\n",
       "    </tr>\n",
       "    <tr>\n",
       "      <th>std</th>\n",
       "      <td>2.902872</td>\n",
       "      <td>7.346783</td>\n",
       "      <td>0.0</td>\n",
       "    </tr>\n",
       "    <tr>\n",
       "      <th>min</th>\n",
       "      <td>1.000000</td>\n",
       "      <td>0.990000</td>\n",
       "      <td>1.0</td>\n",
       "    </tr>\n",
       "    <tr>\n",
       "      <th>25%</th>\n",
       "      <td>3.000000</td>\n",
       "      <td>6.870000</td>\n",
       "      <td>1.0</td>\n",
       "    </tr>\n",
       "    <tr>\n",
       "      <th>50%</th>\n",
       "      <td>6.000000</td>\n",
       "      <td>12.340000</td>\n",
       "      <td>1.0</td>\n",
       "    </tr>\n",
       "    <tr>\n",
       "      <th>75%</th>\n",
       "      <td>8.000000</td>\n",
       "      <td>18.220000</td>\n",
       "      <td>1.0</td>\n",
       "    </tr>\n",
       "    <tr>\n",
       "      <th>max</th>\n",
       "      <td>10.000000</td>\n",
       "      <td>24.720000</td>\n",
       "      <td>1.0</td>\n",
       "    </tr>\n",
       "  </tbody>\n",
       "</table>\n",
       "</div>"
      ],
      "text/plain": [
       "        quantity      price  inspected\n",
       "count  25.000000  25.000000       25.0\n",
       "mean    5.520000  12.514800        1.0\n",
       "std     2.902872   7.346783        0.0\n",
       "min     1.000000   0.990000        1.0\n",
       "25%     3.000000   6.870000        1.0\n",
       "50%     6.000000  12.340000        1.0\n",
       "75%     8.000000  18.220000        1.0\n",
       "max    10.000000  24.720000        1.0"
      ]
     },
     "metadata": {},
     "output_type": "display_data"
    }
   ],
   "source": [
    "# Load the pandas library\n",
    "import pandas as pd\n",
    "# Import the CSV file 'data_finance.csv' into a DataFrame\n",
    "data=pd.read_csv('./data/processed/data_finance.csv')\n",
    "# Display the column names\n",
    "print(\"#1.display the column names\")\n",
    "display(data.columns)\n",
    "# Identify the data types of each column\n",
    "print(\"#2.Identify the data types of each column\")\n",
    "display(data.dtypes)\n",
    "# Display the first 5 rows of the DataFrame\n",
    "print(\"#3.Display the first 5 rows of the DataFrame\")\n",
    "display(data.head(5))\n",
    "# Displzay the last 5 rows of the DataFrame\n",
    "print(\"#4.Display the last 5 rows of the DataFrame\")\n",
    "display(data.tail(5))\n",
    "# Display a random sample of 5 rows\n",
    "print(\"#5.Display a random sample of 5 rows\")\n",
    "display(data.sample(5))\n",
    "# Calculate the total number of rows and columns in the DataFrame\n",
    "print(\"#6.Calculate the total number of rows and columns in the DataFrame\")\n",
    "display(data.shape)\n",
    "# Display summary statistics for the quantity and price，inspected columns\n",
    "print(\"#7.Display summary statistics for the quantity and price，inspected columns\")\n",
    "display(data[['quantity','price','inspected']].describe())"
   ]
  },
  {
   "cell_type": "markdown",
   "metadata": {
    "id": "k3x3SBG_blf2"
   },
   "source": [
    "2. Generative AI comparison. Use a reliable generative AI like ChatGPT, Claude, Bing, Jupyter AI, etc. to answer the same questions as Section 1. You should alter the prompt given to the AI to maximize the accuracy and efficiency of its output. Paste both your prompt and the generative AI's output below.\n",
    "\n",
    "Prompt:\n"
   ]
  },
  {
   "cell_type": "code",
   "execution_count": 14,
   "metadata": {
    "id": "nxpB15SMbnmI"
   },
   "outputs": [
    {
     "ename": "FileNotFoundError",
     "evalue": "[Errno 2] No such file or directory: '../raw/data_finance.csv'",
     "output_type": "error",
     "traceback": [
      "\u001b[0;31m---------------------------------------------------------------------------\u001b[0m",
      "\u001b[0;31mFileNotFoundError\u001b[0m                         Traceback (most recent call last)",
      "Cell \u001b[0;32mIn[14], line 5\u001b[0m\n\u001b[1;32m      2\u001b[0m \u001b[38;5;28;01mimport\u001b[39;00m\u001b[38;5;250m \u001b[39m\u001b[38;5;21;01mpandas\u001b[39;00m\u001b[38;5;250m \u001b[39m\u001b[38;5;28;01mas\u001b[39;00m\u001b[38;5;250m \u001b[39m\u001b[38;5;21;01mpd\u001b[39;00m\n\u001b[1;32m      4\u001b[0m \u001b[38;5;66;03m# Load the pandas library and import the CSV file 'data_finance.csv' into a DataFrame\u001b[39;00m\n\u001b[0;32m----> 5\u001b[0m df \u001b[38;5;241m=\u001b[39m pd\u001b[38;5;241m.\u001b[39mread_csv(\u001b[38;5;124m\"\u001b[39m\u001b[38;5;124m../raw/data_finance.csv\u001b[39m\u001b[38;5;124m\"\u001b[39m)\n\u001b[1;32m      7\u001b[0m \u001b[38;5;66;03m# Display the column names (换行显示)\u001b[39;00m\n\u001b[1;32m      8\u001b[0m \u001b[38;5;28mprint\u001b[39m(\u001b[38;5;124m\"\u001b[39m\u001b[38;5;124mColumn names:\u001b[39m\u001b[38;5;130;01m\\n\u001b[39;00m\u001b[38;5;124m\"\u001b[39m \u001b[38;5;241m+\u001b[39m \u001b[38;5;124m\"\u001b[39m\u001b[38;5;130;01m\\n\u001b[39;00m\u001b[38;5;124m\"\u001b[39m\u001b[38;5;241m.\u001b[39mjoin(df\u001b[38;5;241m.\u001b[39mcolumns))\n",
      "File \u001b[0;32m/opt/anaconda3/lib/python3.13/site-packages/pandas/io/parsers/readers.py:1026\u001b[0m, in \u001b[0;36mread_csv\u001b[0;34m(filepath_or_buffer, sep, delimiter, header, names, index_col, usecols, dtype, engine, converters, true_values, false_values, skipinitialspace, skiprows, skipfooter, nrows, na_values, keep_default_na, na_filter, verbose, skip_blank_lines, parse_dates, infer_datetime_format, keep_date_col, date_parser, date_format, dayfirst, cache_dates, iterator, chunksize, compression, thousands, decimal, lineterminator, quotechar, quoting, doublequote, escapechar, comment, encoding, encoding_errors, dialect, on_bad_lines, delim_whitespace, low_memory, memory_map, float_precision, storage_options, dtype_backend)\u001b[0m\n\u001b[1;32m   1013\u001b[0m kwds_defaults \u001b[38;5;241m=\u001b[39m _refine_defaults_read(\n\u001b[1;32m   1014\u001b[0m     dialect,\n\u001b[1;32m   1015\u001b[0m     delimiter,\n\u001b[0;32m   (...)\u001b[0m\n\u001b[1;32m   1022\u001b[0m     dtype_backend\u001b[38;5;241m=\u001b[39mdtype_backend,\n\u001b[1;32m   1023\u001b[0m )\n\u001b[1;32m   1024\u001b[0m kwds\u001b[38;5;241m.\u001b[39mupdate(kwds_defaults)\n\u001b[0;32m-> 1026\u001b[0m \u001b[38;5;28;01mreturn\u001b[39;00m _read(filepath_or_buffer, kwds)\n",
      "File \u001b[0;32m/opt/anaconda3/lib/python3.13/site-packages/pandas/io/parsers/readers.py:620\u001b[0m, in \u001b[0;36m_read\u001b[0;34m(filepath_or_buffer, kwds)\u001b[0m\n\u001b[1;32m    617\u001b[0m _validate_names(kwds\u001b[38;5;241m.\u001b[39mget(\u001b[38;5;124m\"\u001b[39m\u001b[38;5;124mnames\u001b[39m\u001b[38;5;124m\"\u001b[39m, \u001b[38;5;28;01mNone\u001b[39;00m))\n\u001b[1;32m    619\u001b[0m \u001b[38;5;66;03m# Create the parser.\u001b[39;00m\n\u001b[0;32m--> 620\u001b[0m parser \u001b[38;5;241m=\u001b[39m TextFileReader(filepath_or_buffer, \u001b[38;5;241m*\u001b[39m\u001b[38;5;241m*\u001b[39mkwds)\n\u001b[1;32m    622\u001b[0m \u001b[38;5;28;01mif\u001b[39;00m chunksize \u001b[38;5;129;01mor\u001b[39;00m iterator:\n\u001b[1;32m    623\u001b[0m     \u001b[38;5;28;01mreturn\u001b[39;00m parser\n",
      "File \u001b[0;32m/opt/anaconda3/lib/python3.13/site-packages/pandas/io/parsers/readers.py:1620\u001b[0m, in \u001b[0;36mTextFileReader.__init__\u001b[0;34m(self, f, engine, **kwds)\u001b[0m\n\u001b[1;32m   1617\u001b[0m     \u001b[38;5;28mself\u001b[39m\u001b[38;5;241m.\u001b[39moptions[\u001b[38;5;124m\"\u001b[39m\u001b[38;5;124mhas_index_names\u001b[39m\u001b[38;5;124m\"\u001b[39m] \u001b[38;5;241m=\u001b[39m kwds[\u001b[38;5;124m\"\u001b[39m\u001b[38;5;124mhas_index_names\u001b[39m\u001b[38;5;124m\"\u001b[39m]\n\u001b[1;32m   1619\u001b[0m \u001b[38;5;28mself\u001b[39m\u001b[38;5;241m.\u001b[39mhandles: IOHandles \u001b[38;5;241m|\u001b[39m \u001b[38;5;28;01mNone\u001b[39;00m \u001b[38;5;241m=\u001b[39m \u001b[38;5;28;01mNone\u001b[39;00m\n\u001b[0;32m-> 1620\u001b[0m \u001b[38;5;28mself\u001b[39m\u001b[38;5;241m.\u001b[39m_engine \u001b[38;5;241m=\u001b[39m \u001b[38;5;28mself\u001b[39m\u001b[38;5;241m.\u001b[39m_make_engine(f, \u001b[38;5;28mself\u001b[39m\u001b[38;5;241m.\u001b[39mengine)\n",
      "File \u001b[0;32m/opt/anaconda3/lib/python3.13/site-packages/pandas/io/parsers/readers.py:1880\u001b[0m, in \u001b[0;36mTextFileReader._make_engine\u001b[0;34m(self, f, engine)\u001b[0m\n\u001b[1;32m   1878\u001b[0m     \u001b[38;5;28;01mif\u001b[39;00m \u001b[38;5;124m\"\u001b[39m\u001b[38;5;124mb\u001b[39m\u001b[38;5;124m\"\u001b[39m \u001b[38;5;129;01mnot\u001b[39;00m \u001b[38;5;129;01min\u001b[39;00m mode:\n\u001b[1;32m   1879\u001b[0m         mode \u001b[38;5;241m+\u001b[39m\u001b[38;5;241m=\u001b[39m \u001b[38;5;124m\"\u001b[39m\u001b[38;5;124mb\u001b[39m\u001b[38;5;124m\"\u001b[39m\n\u001b[0;32m-> 1880\u001b[0m \u001b[38;5;28mself\u001b[39m\u001b[38;5;241m.\u001b[39mhandles \u001b[38;5;241m=\u001b[39m get_handle(\n\u001b[1;32m   1881\u001b[0m     f,\n\u001b[1;32m   1882\u001b[0m     mode,\n\u001b[1;32m   1883\u001b[0m     encoding\u001b[38;5;241m=\u001b[39m\u001b[38;5;28mself\u001b[39m\u001b[38;5;241m.\u001b[39moptions\u001b[38;5;241m.\u001b[39mget(\u001b[38;5;124m\"\u001b[39m\u001b[38;5;124mencoding\u001b[39m\u001b[38;5;124m\"\u001b[39m, \u001b[38;5;28;01mNone\u001b[39;00m),\n\u001b[1;32m   1884\u001b[0m     compression\u001b[38;5;241m=\u001b[39m\u001b[38;5;28mself\u001b[39m\u001b[38;5;241m.\u001b[39moptions\u001b[38;5;241m.\u001b[39mget(\u001b[38;5;124m\"\u001b[39m\u001b[38;5;124mcompression\u001b[39m\u001b[38;5;124m\"\u001b[39m, \u001b[38;5;28;01mNone\u001b[39;00m),\n\u001b[1;32m   1885\u001b[0m     memory_map\u001b[38;5;241m=\u001b[39m\u001b[38;5;28mself\u001b[39m\u001b[38;5;241m.\u001b[39moptions\u001b[38;5;241m.\u001b[39mget(\u001b[38;5;124m\"\u001b[39m\u001b[38;5;124mmemory_map\u001b[39m\u001b[38;5;124m\"\u001b[39m, \u001b[38;5;28;01mFalse\u001b[39;00m),\n\u001b[1;32m   1886\u001b[0m     is_text\u001b[38;5;241m=\u001b[39mis_text,\n\u001b[1;32m   1887\u001b[0m     errors\u001b[38;5;241m=\u001b[39m\u001b[38;5;28mself\u001b[39m\u001b[38;5;241m.\u001b[39moptions\u001b[38;5;241m.\u001b[39mget(\u001b[38;5;124m\"\u001b[39m\u001b[38;5;124mencoding_errors\u001b[39m\u001b[38;5;124m\"\u001b[39m, \u001b[38;5;124m\"\u001b[39m\u001b[38;5;124mstrict\u001b[39m\u001b[38;5;124m\"\u001b[39m),\n\u001b[1;32m   1888\u001b[0m     storage_options\u001b[38;5;241m=\u001b[39m\u001b[38;5;28mself\u001b[39m\u001b[38;5;241m.\u001b[39moptions\u001b[38;5;241m.\u001b[39mget(\u001b[38;5;124m\"\u001b[39m\u001b[38;5;124mstorage_options\u001b[39m\u001b[38;5;124m\"\u001b[39m, \u001b[38;5;28;01mNone\u001b[39;00m),\n\u001b[1;32m   1889\u001b[0m )\n\u001b[1;32m   1890\u001b[0m \u001b[38;5;28;01massert\u001b[39;00m \u001b[38;5;28mself\u001b[39m\u001b[38;5;241m.\u001b[39mhandles \u001b[38;5;129;01mis\u001b[39;00m \u001b[38;5;129;01mnot\u001b[39;00m \u001b[38;5;28;01mNone\u001b[39;00m\n\u001b[1;32m   1891\u001b[0m f \u001b[38;5;241m=\u001b[39m \u001b[38;5;28mself\u001b[39m\u001b[38;5;241m.\u001b[39mhandles\u001b[38;5;241m.\u001b[39mhandle\n",
      "File \u001b[0;32m/opt/anaconda3/lib/python3.13/site-packages/pandas/io/common.py:873\u001b[0m, in \u001b[0;36mget_handle\u001b[0;34m(path_or_buf, mode, encoding, compression, memory_map, is_text, errors, storage_options)\u001b[0m\n\u001b[1;32m    868\u001b[0m \u001b[38;5;28;01melif\u001b[39;00m \u001b[38;5;28misinstance\u001b[39m(handle, \u001b[38;5;28mstr\u001b[39m):\n\u001b[1;32m    869\u001b[0m     \u001b[38;5;66;03m# Check whether the filename is to be opened in binary mode.\u001b[39;00m\n\u001b[1;32m    870\u001b[0m     \u001b[38;5;66;03m# Binary mode does not support 'encoding' and 'newline'.\u001b[39;00m\n\u001b[1;32m    871\u001b[0m     \u001b[38;5;28;01mif\u001b[39;00m ioargs\u001b[38;5;241m.\u001b[39mencoding \u001b[38;5;129;01mand\u001b[39;00m \u001b[38;5;124m\"\u001b[39m\u001b[38;5;124mb\u001b[39m\u001b[38;5;124m\"\u001b[39m \u001b[38;5;129;01mnot\u001b[39;00m \u001b[38;5;129;01min\u001b[39;00m ioargs\u001b[38;5;241m.\u001b[39mmode:\n\u001b[1;32m    872\u001b[0m         \u001b[38;5;66;03m# Encoding\u001b[39;00m\n\u001b[0;32m--> 873\u001b[0m         handle \u001b[38;5;241m=\u001b[39m \u001b[38;5;28mopen\u001b[39m(\n\u001b[1;32m    874\u001b[0m             handle,\n\u001b[1;32m    875\u001b[0m             ioargs\u001b[38;5;241m.\u001b[39mmode,\n\u001b[1;32m    876\u001b[0m             encoding\u001b[38;5;241m=\u001b[39mioargs\u001b[38;5;241m.\u001b[39mencoding,\n\u001b[1;32m    877\u001b[0m             errors\u001b[38;5;241m=\u001b[39merrors,\n\u001b[1;32m    878\u001b[0m             newline\u001b[38;5;241m=\u001b[39m\u001b[38;5;124m\"\u001b[39m\u001b[38;5;124m\"\u001b[39m,\n\u001b[1;32m    879\u001b[0m         )\n\u001b[1;32m    880\u001b[0m     \u001b[38;5;28;01melse\u001b[39;00m:\n\u001b[1;32m    881\u001b[0m         \u001b[38;5;66;03m# Binary mode\u001b[39;00m\n\u001b[1;32m    882\u001b[0m         handle \u001b[38;5;241m=\u001b[39m \u001b[38;5;28mopen\u001b[39m(handle, ioargs\u001b[38;5;241m.\u001b[39mmode)\n",
      "\u001b[0;31mFileNotFoundError\u001b[0m: [Errno 2] No such file or directory: '../raw/data_finance.csv'"
     ]
    }
   ],
   "source": [
    "# AI generated code\n",
    "import pandas as pd\n",
    "\n",
    "# Load the pandas library and import the CSV file 'data_finance.csv' into a DataFrame\n",
    "df = pd.read_csv(\"../raw/data_finance.csv\")\n",
    "\n",
    "# Display the column names (换行显示)\n",
    "print(\"Column names:\\n\" + \"\\n\".join(df.columns))\n",
    "\n",
    "# Identify the data types of each column\n",
    "print(\"\\nData types:\\n\", df.dtypes)\n",
    "\n",
    "# Display the first 5 rows of the DataFrame\n",
    "print(\"\\nFirst 5 rows:\")\n",
    "print(df.head())\n",
    "\n",
    "# Display the last 5 rows of the DataFrame\n",
    "print(\"\\nLast 5 rows:\")\n",
    "print(df.tail())\n",
    "\n",
    "# Display a random sample of 5 rows\n",
    "print(\"\\nRandom 5 rows:\")\n",
    "print(df.sample(5, random_state=42))\n",
    "\n",
    "# Calculate the total number of rows and columns in the DataFrame\n",
    "print(\"\\nShape (rows, columns):\", df.shape)\n",
    "\n",
    "# Display summary statistics for the quantity, price, and inspected columns\n",
    "print(\"\\nSummary statistics for quantity, price, inspected:\")\n",
    "print(df[['quantity', 'price', 'inspected']].describe())\n"
   ]
  },
  {
   "cell_type": "markdown",
   "metadata": {
    "id": "PZiy5JolYBnB"
   },
   "source": [
    "3. Data cleaning: \"data_students.tsv\" contains a dataset with information about students. Write the appropriate code for each of the tasks below. This section should be completed without generative AI, but with open access to static online resources like course material, stackoverflow, blogs with sample code, etc."
   ]
  },
  {
   "cell_type": "code",
   "execution_count": null,
   "metadata": {
    "id": "FW5woMoyYNd9"
   },
   "outputs": [
    {
     "name": "stdout",
     "output_type": "stream",
     "text": [
      "#1.Display the number of missing values in each column\n"
     ]
    },
    {
     "data": {
      "application/vnd.microsoft.datawrangler.viewer.v0+json": {
       "columns": [
        {
         "name": "index",
         "rawType": "object",
         "type": "string"
        },
        {
         "name": "0",
         "rawType": "int64",
         "type": "integer"
        }
       ],
       "ref": "6fd727a5-8d32-4c34-9b61-79eb8ebc5209",
       "rows": [
        [
         "id",
         "0"
        ],
        [
         "name",
         "0"
        ],
        [
         "age",
         "5"
        ],
        [
         "sex",
         "0"
        ],
        [
         "location",
         "0"
        ],
        [
         "math",
         "0"
        ],
        [
         "science",
         "0"
        ],
        [
         "history",
         "0"
        ],
        [
         "english",
         "0"
        ]
       ],
       "shape": {
        "columns": 1,
        "rows": 9
       }
      },
      "text/plain": [
       "id          0\n",
       "name        0\n",
       "age         5\n",
       "sex         0\n",
       "location    0\n",
       "math        0\n",
       "science     0\n",
       "history     0\n",
       "english     0\n",
       "dtype: int64"
      ]
     },
     "metadata": {},
     "output_type": "display_data"
    },
    {
     "name": "stdout",
     "output_type": "stream",
     "text": [
      "#2.Create a new column identifying whether the age column is missing\n"
     ]
    },
    {
     "data": {
      "application/vnd.microsoft.datawrangler.viewer.v0+json": {
       "columns": [
        {
         "name": "index",
         "rawType": "int64",
         "type": "integer"
        },
        {
         "name": "missing",
         "rawType": "object",
         "type": "string"
        }
       ],
       "ref": "015f8e5f-8e31-4e1b-9a75-3cd692168caf",
       "rows": [
        [
         "0",
         "not missing"
        ],
        [
         "1",
         "not missing"
        ],
        [
         "2",
         "not missing"
        ],
        [
         "3",
         "not missing"
        ],
        [
         "4",
         "missing age"
        ]
       ],
       "shape": {
        "columns": 1,
        "rows": 5
       }
      },
      "text/plain": [
       "0    not missing\n",
       "1    not missing\n",
       "2    not missing\n",
       "3    not missing\n",
       "4    missing age\n",
       "Name: missing, dtype: object"
      ]
     },
     "metadata": {},
     "output_type": "display_data"
    },
    {
     "name": "stdout",
     "output_type": "stream",
     "text": [
      "#3.Replace missing values in the 'age' column with the mean age\n"
     ]
    },
    {
     "data": {
      "application/vnd.microsoft.datawrangler.viewer.v0+json": {
       "columns": [
        {
         "name": "index",
         "rawType": "int64",
         "type": "integer"
        },
        {
         "name": "age",
         "rawType": "float64",
         "type": "float"
        }
       ],
       "ref": "76c283c2-6ae2-4b32-8c15-cca8b9e8e58f",
       "rows": [
        [
         "0",
         "23.0"
        ],
        [
         "1",
         "31.0"
        ],
        [
         "2",
         "30.0"
        ],
        [
         "3",
         "24.0"
        ],
        [
         "4",
         "25.238095238095237"
        ]
       ],
       "shape": {
        "columns": 1,
        "rows": 5
       }
      },
      "text/plain": [
       "0    23.000000\n",
       "1    31.000000\n",
       "2    30.000000\n",
       "3    24.000000\n",
       "4    25.238095\n",
       "Name: age, dtype: float64"
      ]
     },
     "metadata": {},
     "output_type": "display_data"
    },
    {
     "name": "stdout",
     "output_type": "stream",
     "text": [
      "#4.Convert the 'gender' column to lowercase\n"
     ]
    },
    {
     "data": {
      "application/vnd.microsoft.datawrangler.viewer.v0+json": {
       "columns": [
        {
         "name": "index",
         "rawType": "int64",
         "type": "integer"
        },
        {
         "name": "sex",
         "rawType": "object",
         "type": "string"
        }
       ],
       "ref": "5568dd7e-dd46-44f4-a5b3-ffaa7baad64f",
       "rows": [
        [
         "0",
         "female"
        ],
        [
         "1",
         "male"
        ],
        [
         "2",
         "neither"
        ],
        [
         "3",
         "unknown"
        ],
        [
         "4",
         "male"
        ]
       ],
       "shape": {
        "columns": 1,
        "rows": 5
       }
      },
      "text/plain": [
       "0     female\n",
       "1       male\n",
       "2    neither\n",
       "3    unknown\n",
       "4       male\n",
       "Name: sex, dtype: object"
      ]
     },
     "metadata": {},
     "output_type": "display_data"
    },
    {
     "name": "stdout",
     "output_type": "stream",
     "text": [
      "#5.Split the location column into separate columns for city and state\n"
     ]
    },
    {
     "data": {
      "application/vnd.microsoft.datawrangler.viewer.v0+json": {
       "columns": [
        {
         "name": "index",
         "rawType": "int64",
         "type": "integer"
        },
        {
         "name": "city",
         "rawType": "object",
         "type": "string"
        },
        {
         "name": "state",
         "rawType": "object",
         "type": "string"
        }
       ],
       "ref": "c16a6300-4fb7-46ad-82c9-89159881d32b",
       "rows": [
        [
         "0",
         "Houston",
         " TX"
        ],
        [
         "1",
         "Phoenix",
         " AZ"
        ],
        [
         "2",
         "Chicago",
         " IL"
        ],
        [
         "3",
         "Denver",
         " CO"
        ],
        [
         "4",
         "Atlanta",
         " GA"
        ]
       ],
       "shape": {
        "columns": 2,
        "rows": 5
       }
      },
      "text/html": [
       "<div>\n",
       "<style scoped>\n",
       "    .dataframe tbody tr th:only-of-type {\n",
       "        vertical-align: middle;\n",
       "    }\n",
       "\n",
       "    .dataframe tbody tr th {\n",
       "        vertical-align: top;\n",
       "    }\n",
       "\n",
       "    .dataframe thead th {\n",
       "        text-align: right;\n",
       "    }\n",
       "</style>\n",
       "<table border=\"1\" class=\"dataframe\">\n",
       "  <thead>\n",
       "    <tr style=\"text-align: right;\">\n",
       "      <th></th>\n",
       "      <th>city</th>\n",
       "      <th>state</th>\n",
       "    </tr>\n",
       "  </thead>\n",
       "  <tbody>\n",
       "    <tr>\n",
       "      <th>0</th>\n",
       "      <td>Houston</td>\n",
       "      <td>TX</td>\n",
       "    </tr>\n",
       "    <tr>\n",
       "      <th>1</th>\n",
       "      <td>Phoenix</td>\n",
       "      <td>AZ</td>\n",
       "    </tr>\n",
       "    <tr>\n",
       "      <th>2</th>\n",
       "      <td>Chicago</td>\n",
       "      <td>IL</td>\n",
       "    </tr>\n",
       "    <tr>\n",
       "      <th>3</th>\n",
       "      <td>Denver</td>\n",
       "      <td>CO</td>\n",
       "    </tr>\n",
       "    <tr>\n",
       "      <th>4</th>\n",
       "      <td>Atlanta</td>\n",
       "      <td>GA</td>\n",
       "    </tr>\n",
       "  </tbody>\n",
       "</table>\n",
       "</div>"
      ],
      "text/plain": [
       "      city state\n",
       "0  Houston    TX\n",
       "1  Phoenix    AZ\n",
       "2  Chicago    IL\n",
       "3   Denver    CO\n",
       "4  Atlanta    GA"
      ]
     },
     "metadata": {},
     "output_type": "display_data"
    }
   ],
   "source": [
    "# Import \"data_students.tsv\" into a dataframe\n",
    "data2 = pd.read_csv(\"./data/raw/data_students.tsv\", sep=\"\\t\")\n",
    "# Rename the columns to improve machine and human-readability\n",
    "# change \"student_id\" to \"id\", \"math grade\" to \"math\", \"grade in english\" to \"english\"\n",
    "# (I do this directly in the csv file, so I don't need to rename it here)\n",
    "#or use code: data2=data2.rename(columns={})\n",
    "# Display the number of missing values in each column\n",
    "print(\"#1.Display the number of missing values in each column\")\n",
    "number=data2.isnull().sum()\n",
    "display(number)\n",
    "# Create a new column identifying whether the age column is missing\n",
    "print(\"#2.Create a new column identifying whether the age column is missing\")\n",
    "data2[\"missing\"]=data2[\"age\"].isna().map({True:'missing age', False: 'not missing'})\n",
    "display(data2[\"missing\"].head(5))\n",
    "# Replace missing values in the 'age' column with the mean age\n",
    "print(\"#3.Replace missing values in the 'age' column with the mean age\")\n",
    "data2[\"age\"]=data2[\"age\"].fillna(data2[\"age\"].mean())\n",
    "display(data2[\"age\"].head(5))\n",
    "# Convert the 'gender' column to lowercase\n",
    "print(\"#4.Convert the 'gender' column to lowercase\")\n",
    "data2[\"sex\"]=data2['sex'].astype(str).str.lower()\n",
    "display(data2[\"sex\"].head(5))\n",
    "# Split the location column into separate columns for city and state\n",
    "print(\"#5.Split the location column into separate columns for city and state\")\n",
    "data2[\"location\"]=data2[\"location\"].astype(str) \n",
    "data2[['city','state']]=data2[\"location\"].str.split(\",\",expand=True)\n",
    "display(data2[[\"city\",\"state\"]].head(5))\n",
    "# Save the cleaned data to a new CSV file with an appropriate name\n",
    "data2.to_csv('./data/processed/data_student.csv', index=False,header=True)\n",
    "\n",
    "\n",
    "\n"
   ]
  },
  {
   "cell_type": "markdown",
   "metadata": {
    "id": "lcCTq1i-bzGI"
   },
   "source": [
    "4. Generative AI comparison. Use a reliable generative AI like ChatGPT, Claude, Bing, Jupyter AI, etc. to answer the same questions as Section 3. You should alter the prompt given to the AI to maximize the accuracy and efficiency of its output. Paste both your prompt and the generative AI's output below.\n",
    "import pandas as pd\n",
    "from pathlib import Path"
   ]
  },
  {
   "cell_type": "code",
   "execution_count": null,
   "metadata": {},
   "outputs": [],
   "source": [
    "#4 AI code"
   ]
  },
  {
   "cell_type": "code",
   "execution_count": null,
   "metadata": {},
   "outputs": [
    {
     "ename": "NameError",
     "evalue": "name 'Path' is not defined",
     "output_type": "error",
     "traceback": [
      "\u001b[0;31m---------------------------------------------------------------------------\u001b[0m",
      "\u001b[0;31mNameError\u001b[0m                                 Traceback (most recent call last)",
      "Cell \u001b[0;32mIn[12], line 4\u001b[0m\n\u001b[1;32m      1\u001b[0m \u001b[38;5;66;03m# 0) Paths\u001b[39;00m\n\u001b[1;32m      2\u001b[0m \u001b[38;5;66;03m# -----------------------------\u001b[39;00m\n\u001b[1;32m      3\u001b[0m RAW_PATH \u001b[38;5;241m=\u001b[39m \u001b[38;5;124m\"\u001b[39m\u001b[38;5;124m./data/raw/data_students.tsv\u001b[39m\u001b[38;5;124m\"\u001b[39m\n\u001b[0;32m----> 4\u001b[0m OUT_DIR  \u001b[38;5;241m=\u001b[39m Path(\u001b[38;5;124m\"\u001b[39m\u001b[38;5;124m./data/processed\u001b[39m\u001b[38;5;124m\"\u001b[39m)\n\u001b[1;32m      5\u001b[0m OUT_DIR\u001b[38;5;241m.\u001b[39mmkdir(parents\u001b[38;5;241m=\u001b[39m\u001b[38;5;28;01mTrue\u001b[39;00m, exist_ok\u001b[38;5;241m=\u001b[39m\u001b[38;5;28;01mTrue\u001b[39;00m)\n\u001b[1;32m      6\u001b[0m OUT_PATH \u001b[38;5;241m=\u001b[39m OUT_DIR \u001b[38;5;241m/\u001b[39m \u001b[38;5;124m\"\u001b[39m\u001b[38;5;124mdata_student.csv\u001b[39m\u001b[38;5;124m\"\u001b[39m   \u001b[38;5;66;03m# Save as CSV per instructions\u001b[39;00m\n",
      "\u001b[0;31mNameError\u001b[0m: name 'Path' is not defined"
     ]
    }
   ],
   "source": [
    "# 0) Paths\n",
    "# -----------------------------\n",
    "RAW_PATH = \"./data/raw/data_students.tsv\"\n",
    "OUT_DIR  = Path(\"./data/processed\")\n",
    "OUT_DIR.mkdir(parents=True, exist_ok=True)\n",
    "OUT_PATH = OUT_DIR / \"data_student.csv\"   # Save as CSV per instructions\n",
    "\n",
    "# -----------------------------\n",
    "# 1) Load data (TSV -> use sep=\"\\t\")\n",
    "# -----------------------------\n",
    "df = pd.read_csv(RAW_PATH, sep=\"\\t\")\n",
    "display(type(df))\n",
    "display(df.head(3))\n",
    "\n",
    "# -----------------------------\n",
    "# 2) Show missing counts by column\n",
    "# -----------------------------\n",
    "missing_counts = df.isna().sum()\n",
    "display(missing_counts)\n",
    "\n",
    "# -----------------------------\n",
    "# 3) Add a new column indicating if 'age' is missing\n",
    "#    (text label; use .astype(int) for 0/1 if you prefer)\n",
    "# -----------------------------\n",
    "df[\"age_missing\"] = df[\"age\"].isna().map({True: \"missing age\", False: \"not missing\"})\n",
    "\n",
    "# -----------------------------\n",
    "# 4) Replace missing 'age' with the mean (mean skips NaN by default)\n",
    "#    Ensure 'age' is numeric first\n",
    "# -----------------------------\n",
    "df[\"age\"] = pd.to_numeric(df[\"age\"], errors=\"coerce\")\n",
    "age_mean = df[\"age\"].mean()\n",
    "df[\"age\"] = df[\"age\"].fillna(age_mean)\n",
    "\n",
    "# -----------------------------\n",
    "# 5) Convert the gender/sex column to lowercase\n",
    "#    (your file uses 'sex'; change to 'gender' if needed)\n",
    "# -----------------------------\n",
    "df[\"sex\"] = df[\"sex\"].astype(\"string\").str.strip().str.lower()\n"
   ]
  },
  {
   "cell_type": "markdown",
   "metadata": {
    "id": "5rFyq2Oyb2dR"
   },
   "source": [
    "5. Generative AI evaluation. Compare the code you produced using static sources to that produced by the generative AI. Write 2-3 paragraphs evaluating the strengths and weaknesses of both approaches. In doing so, you should answer the following questions:\n",
    "* Having now seen the code produced by Generative AI, how would you have written your code differently?\n",
    "* Where does Generative AI excel, and where did it fall short?\n",
    "* What was important in writing your prompt?\n",
    "\n",
    "After seeing the code from the generative AI, I would keep my own style simple but add a few habits. I’d convert columns to the right types before filling values, add a small “missing” flag before imputation, and avoid inplace=True so my steps are clearer. I’d also handle the location split more carefully and make sure any output folder exists before saving. These are small changes, but they make the code safer and easier to read.\n",
    "\n",
    "The AI was fast and covered many edge cases I might skip. It reminded me about data types, directory creation, and safer string operations. But it also guessed things about my project, like file names or paths, and sometimes added extra steps I didn’t need. That mismatch is why some AI code broke even though the ideas were good.\n",
    "\n",
    "For the prompt, I think there are two things mattered most: clear, accurate column names and relative paths. When I state the exact columns I have and the exact folder paths I use, the AI’s code lines up with my data and runs with fewer fixes."
   ]
  }
 ],
 "metadata": {
  "colab": {
   "provenance": []
  },
  "kernelspec": {
   "display_name": "Python (venv)",
   "language": "python",
   "name": "venv"
  },
  "language_info": {
   "codemirror_mode": {
    "name": "ipython",
    "version": 3
   },
   "file_extension": ".py",
   "mimetype": "text/x-python",
   "name": "python",
   "nbconvert_exporter": "python",
   "pygments_lexer": "ipython3",
   "version": "3.13.5"
  }
 },
 "nbformat": 4,
 "nbformat_minor": 1
}
